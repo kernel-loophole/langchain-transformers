{
  "nbformat": 4,
  "nbformat_minor": 0,
  "metadata": {
    "colab": {
      "provenance": [],
      "gpuType": "T4"
    },
    "kernelspec": {
      "name": "python3",
      "display_name": "Python 3"
    },
    "language_info": {
      "name": "python"
    },
    "accelerator": "GPU"
  },
  "cells": [
    {
      "cell_type": "code",
      "execution_count": 1,
      "metadata": {
        "id": "ACwmyA7QRo4Y"
      },
      "outputs": [],
      "source": [
        "import torch"
      ]
    },
    {
      "cell_type": "code",
      "source": [
        "double_points = torch.ones(10, 2, dtype=torch.double)\n",
        "short_points = torch.tensor([[1, 2], [3, 4]], dtype=torch.short)"
      ],
      "metadata": {
        "id": "MGcsglUBRr6v"
      },
      "execution_count": 2,
      "outputs": []
    },
    {
      "cell_type": "markdown",
      "source": [
        "**Numbers in Python are objects**. Whereas a floating-point number might require\n",
        "only, for instance, 32 bits to be represented on a computer, Python will convert\n",
        "it into a full-fledged Python object with reference counting, and so on. This\n",
        "operation, called boxing, is not a problem if we need to store a small number of\n",
        "numbers, but allocating millions gets very inefficient.\n",
        "\n",
        " **Lists in Python are meant for sequential collections of objects.** There are no operations\n",
        "defined for, say, efficiently taking the dot product of two vectors, or summing vec\u0002tors together. Also, Python lists have no way of optimizing the layout of their con\u0002tents in memory, as they are indexable collections of pointers to Python objects."
      ],
      "metadata": {
        "id": "VOfcfEB2R3_w"
      }
    },
    {
      "cell_type": "code",
      "source": [
        "double_points"
      ],
      "metadata": {
        "colab": {
          "base_uri": "https://localhost:8080/"
        },
        "id": "7H6UQavaRxCg",
        "outputId": "d5fa74bc-0125-4a5a-e880-00e11fabf529"
      },
      "execution_count": 3,
      "outputs": [
        {
          "output_type": "execute_result",
          "data": {
            "text/plain": [
              "tensor([[1., 1.],\n",
              "        [1., 1.],\n",
              "        [1., 1.],\n",
              "        [1., 1.],\n",
              "        [1., 1.],\n",
              "        [1., 1.],\n",
              "        [1., 1.],\n",
              "        [1., 1.],\n",
              "        [1., 1.],\n",
              "        [1., 1.]], dtype=torch.float64)"
            ]
          },
          "metadata": {},
          "execution_count": 3
        }
      ]
    },
    {
      "cell_type": "code",
      "source": [
        "double_points.dtype"
      ],
      "metadata": {
        "colab": {
          "base_uri": "https://localhost:8080/"
        },
        "id": "wmKZxiAARzKt",
        "outputId": "3cfd926a-489b-44af-b87a-18eef2bb31de"
      },
      "execution_count": 4,
      "outputs": [
        {
          "output_type": "execute_result",
          "data": {
            "text/plain": [
              "torch.float64"
            ]
          },
          "metadata": {},
          "execution_count": 4
        }
      ]
    },
    {
      "cell_type": "code",
      "source": [
        "short_points.dtype"
      ],
      "metadata": {
        "colab": {
          "base_uri": "https://localhost:8080/"
        },
        "id": "CeVXPB-ZSbnp",
        "outputId": "e2c31f10-feaf-4a43-c495-e2bea2df69b9"
      },
      "execution_count": 5,
      "outputs": [
        {
          "output_type": "execute_result",
          "data": {
            "text/plain": [
              "torch.int16"
            ]
          },
          "metadata": {},
          "execution_count": 5
        }
      ]
    },
    {
      "cell_type": "code",
      "source": [
        "double_points = torch.zeros(10, 2).to(torch.double)\n",
        "short_points = torch.ones(10, 2).to(dtype=torch.short)"
      ],
      "metadata": {
        "id": "W1fCBzJOSg8b"
      },
      "execution_count": 6,
      "outputs": []
    },
    {
      "cell_type": "code",
      "source": [
        "print(double_points.dtype)\n",
        "print(short_points.dtype)"
      ],
      "metadata": {
        "colab": {
          "base_uri": "https://localhost:8080/"
        },
        "id": "Qd7XZEkdSsyX",
        "outputId": "2eab7f7d-9b19-4336-c803-f09302cde54b"
      },
      "execution_count": 7,
      "outputs": [
        {
          "output_type": "stream",
          "name": "stdout",
          "text": [
            "torch.float64\n",
            "torch.int16\n"
          ]
        }
      ]
    },
    {
      "cell_type": "markdown",
      "source": [
        "**some common operations on tensors**"
      ],
      "metadata": {
        "id": "YsIVcrAbTUpd"
      }
    },
    {
      "cell_type": "code",
      "source": [
        "a = torch.rand(3,2)\n",
        "print(a)\n",
        "a_t = torch.transpose(a, 0, 1)\n",
        "a.shape, a_t.shape\n",
        "print(\"========================\")\n",
        "print(a_t)"
      ],
      "metadata": {
        "colab": {
          "base_uri": "https://localhost:8080/"
        },
        "id": "9RtZXtt7SwCK",
        "outputId": "ef8905b6-f02a-49d5-ca5c-2038febebf3b"
      },
      "execution_count": 8,
      "outputs": [
        {
          "output_type": "stream",
          "name": "stdout",
          "text": [
            "tensor([[0.3525, 0.1306],\n",
            "        [0.4038, 0.3475],\n",
            "        [0.7476, 0.9429]])\n",
            "========================\n",
            "tensor([[0.3525, 0.4038, 0.7476],\n",
            "        [0.1306, 0.3475, 0.9429]])\n"
          ]
        }
      ]
    },
    {
      "cell_type": "markdown",
      "source": [
        "# Indexing into storage"
      ],
      "metadata": {
        "id": "TGAPInXRWuNV"
      }
    },
    {
      "cell_type": "code",
      "source": [
        "points = torch.tensor([[4.0, 1.0], [5.0, 3.0], [2.0, 1.0]])\n",
        "points.storage()"
      ],
      "metadata": {
        "colab": {
          "base_uri": "https://localhost:8080/"
        },
        "id": "qz_H7DAhTapH",
        "outputId": "0f317a81-af16-4ca4-a8a8-c01d297ae251"
      },
      "execution_count": 9,
      "outputs": [
        {
          "output_type": "stream",
          "name": "stderr",
          "text": [
            "<ipython-input-9-8575ff47c9e0>:2: UserWarning: TypedStorage is deprecated. It will be removed in the future and UntypedStorage will be the only storage class. This should only matter to you if you are using storages directly.  To access UntypedStorage directly, use tensor.untyped_storage() instead of tensor.storage()\n",
            "  points.storage()\n"
          ]
        },
        {
          "output_type": "execute_result",
          "data": {
            "text/plain": [
              " 4.0\n",
              " 1.0\n",
              " 5.0\n",
              " 3.0\n",
              " 2.0\n",
              " 1.0\n",
              "[torch.storage.TypedStorage(dtype=torch.float32, device=cpu) of size 6]"
            ]
          },
          "metadata": {},
          "execution_count": 9
        }
      ]
    },
    {
      "cell_type": "code",
      "source": [
        "points.storage()[1]"
      ],
      "metadata": {
        "colab": {
          "base_uri": "https://localhost:8080/"
        },
        "id": "T60byPdLW_L2",
        "outputId": "78ee9ec3-9f0c-4ec0-fd36-cfec76866d13"
      },
      "execution_count": 10,
      "outputs": [
        {
          "output_type": "execute_result",
          "data": {
            "text/plain": [
              "1.0"
            ]
          },
          "metadata": {},
          "execution_count": 10
        }
      ]
    },
    {
      "cell_type": "markdown",
      "source": [
        "We can’t index a storage of a 2D tensor using two indices. The layout of a storage is\n",
        "always one-dimensional, regardless of the dimensionality of any and all tensors that\n",
        "might refer to it"
      ],
      "metadata": {
        "id": "vOLNWu57XP2s"
      }
    },
    {
      "cell_type": "code",
      "source": [
        "points = torch.tensor([[4.0, 1.0], [5.0, 3.0], [2.0, 1.0]])\n",
        "points_storage = points.storage()\n",
        "#indexing of tensor\n",
        "points_storage[3] = 2.0\n",
        "points"
      ],
      "metadata": {
        "colab": {
          "base_uri": "https://localhost:8080/"
        },
        "id": "ibQ7zpbVXW0H",
        "outputId": "9b22bfdf-1afe-4c9d-f3ed-c98958c263df"
      },
      "execution_count": 11,
      "outputs": [
        {
          "output_type": "execute_result",
          "data": {
            "text/plain": [
              "tensor([[4., 1.],\n",
              "        [5., 2.],\n",
              "        [2., 1.]])"
            ]
          },
          "metadata": {},
          "execution_count": 11
        }
      ]
    },
    {
      "cell_type": "code",
      "source": [
        "some_t = torch.rand(3, 4, 5)\n",
        "transpose_t = some_t.transpose(0, 2)\n",
        "some_t.shape"
      ],
      "metadata": {
        "colab": {
          "base_uri": "https://localhost:8080/"
        },
        "id": "GxPi1ebJXa2Z",
        "outputId": "f6fbc74d-7cd8-40c0-a66d-e80ad2e800de"
      },
      "execution_count": 12,
      "outputs": [
        {
          "output_type": "execute_result",
          "data": {
            "text/plain": [
              "torch.Size([3, 4, 5])"
            ]
          },
          "metadata": {},
          "execution_count": 12
        }
      ]
    },
    {
      "cell_type": "code",
      "source": [
        "some_t"
      ],
      "metadata": {
        "colab": {
          "base_uri": "https://localhost:8080/"
        },
        "id": "z5Y8Sg13b0VK",
        "outputId": "2c8f4397-cb7a-41dd-8882-5aa61c214d5c"
      },
      "execution_count": 13,
      "outputs": [
        {
          "output_type": "execute_result",
          "data": {
            "text/plain": [
              "tensor([[[0.8472, 0.9744, 0.9043, 0.6092, 0.5228],\n",
              "         [0.0919, 0.4115, 0.0607, 0.6791, 0.8086],\n",
              "         [0.1359, 0.3917, 0.2855, 0.7027, 0.1012],\n",
              "         [0.5674, 0.5909, 0.9469, 0.8096, 0.4308]],\n",
              "\n",
              "        [[0.0575, 0.9304, 0.2338, 0.2793, 0.5733],\n",
              "         [0.5752, 0.9927, 0.6259, 0.2302, 0.3363],\n",
              "         [0.9087, 0.6128, 0.8231, 0.8013, 0.7394],\n",
              "         [0.2587, 0.0732, 0.1174, 0.9612, 0.9249]],\n",
              "\n",
              "        [[0.8578, 0.3961, 0.2368, 0.0082, 0.0305],\n",
              "         [0.3299, 0.2919, 0.5973, 0.0298, 0.0210],\n",
              "         [0.4624, 0.3217, 0.7063, 0.8314, 0.5482],\n",
              "         [0.0920, 0.6123, 0.6646, 0.9039, 0.5072]]])"
            ]
          },
          "metadata": {},
          "execution_count": 13
        }
      ]
    },
    {
      "cell_type": "code",
      "source": [
        "transpose_t"
      ],
      "metadata": {
        "colab": {
          "base_uri": "https://localhost:8080/"
        },
        "id": "5hLWUkcgb3e_",
        "outputId": "73f7756b-3e68-49da-ae12-3198ffaa6019"
      },
      "execution_count": 14,
      "outputs": [
        {
          "output_type": "execute_result",
          "data": {
            "text/plain": [
              "tensor([[[0.8472, 0.0575, 0.8578],\n",
              "         [0.0919, 0.5752, 0.3299],\n",
              "         [0.1359, 0.9087, 0.4624],\n",
              "         [0.5674, 0.2587, 0.0920]],\n",
              "\n",
              "        [[0.9744, 0.9304, 0.3961],\n",
              "         [0.4115, 0.9927, 0.2919],\n",
              "         [0.3917, 0.6128, 0.3217],\n",
              "         [0.5909, 0.0732, 0.6123]],\n",
              "\n",
              "        [[0.9043, 0.2338, 0.2368],\n",
              "         [0.0607, 0.6259, 0.5973],\n",
              "         [0.2855, 0.8231, 0.7063],\n",
              "         [0.9469, 0.1174, 0.6646]],\n",
              "\n",
              "        [[0.6092, 0.2793, 0.0082],\n",
              "         [0.6791, 0.2302, 0.0298],\n",
              "         [0.7027, 0.8013, 0.8314],\n",
              "         [0.8096, 0.9612, 0.9039]],\n",
              "\n",
              "        [[0.5228, 0.5733, 0.0305],\n",
              "         [0.8086, 0.3363, 0.0210],\n",
              "         [0.1012, 0.7394, 0.5482],\n",
              "         [0.4308, 0.9249, 0.5072]]])"
            ]
          },
          "metadata": {},
          "execution_count": 14
        }
      ]
    },
    {
      "cell_type": "code",
      "source": [
        "some_t.stride()"
      ],
      "metadata": {
        "colab": {
          "base_uri": "https://localhost:8080/"
        },
        "id": "slDY2LU4b4yv",
        "outputId": "98ff3b76-a68e-46b4-e0a9-c572e4e37fd2"
      },
      "execution_count": 15,
      "outputs": [
        {
          "output_type": "execute_result",
          "data": {
            "text/plain": [
              "(20, 5, 1)"
            ]
          },
          "metadata": {},
          "execution_count": 15
        }
      ]
    },
    {
      "cell_type": "code",
      "source": [
        "transpose_t.stride()"
      ],
      "metadata": {
        "colab": {
          "base_uri": "https://localhost:8080/"
        },
        "id": "acGmWVFFcC_8",
        "outputId": "e2e421b1-4903-4d18-e1f6-e4204dc94efc"
      },
      "execution_count": 16,
      "outputs": [
        {
          "output_type": "execute_result",
          "data": {
            "text/plain": [
              "(1, 5, 20)"
            ]
          },
          "metadata": {},
          "execution_count": 16
        }
      ]
    },
    {
      "cell_type": "code",
      "source": [
        "some_t.is_contiguous()"
      ],
      "metadata": {
        "colab": {
          "base_uri": "https://localhost:8080/"
        },
        "id": "G-C0b3l9cGP9",
        "outputId": "eea8e9b8-ea3b-412d-f5a9-1c0541ab7e97"
      },
      "execution_count": 17,
      "outputs": [
        {
          "output_type": "execute_result",
          "data": {
            "text/plain": [
              "True"
            ]
          },
          "metadata": {},
          "execution_count": 17
        }
      ]
    },
    {
      "cell_type": "code",
      "source": [
        "transpose_t.is_contiguous()"
      ],
      "metadata": {
        "colab": {
          "base_uri": "https://localhost:8080/"
        },
        "id": "-6DbPLw9cx8V",
        "outputId": "4171bce3-7f5f-4ec9-bad5-ff780e568f63"
      },
      "execution_count": 18,
      "outputs": [
        {
          "output_type": "execute_result",
          "data": {
            "text/plain": [
              "False"
            ]
          },
          "metadata": {},
          "execution_count": 18
        }
      ]
    },
    {
      "cell_type": "code",
      "source": [
        "points_gpu = torch.tensor([[4.0, 1.0], [5.0, 3.0], [2.0, 1.0]], device='cuda')\n"
      ],
      "metadata": {
        "id": "Xp6mzQzbc3-r"
      },
      "execution_count": 19,
      "outputs": []
    },
    {
      "cell_type": "code",
      "source": [
        "points_gpu"
      ],
      "metadata": {
        "colab": {
          "base_uri": "https://localhost:8080/"
        },
        "id": "mbE0-EDpdQgK",
        "outputId": "2b55383d-517f-437a-9715-c6e09471483e"
      },
      "execution_count": 20,
      "outputs": [
        {
          "output_type": "execute_result",
          "data": {
            "text/plain": [
              "tensor([[4., 1.],\n",
              "        [5., 3.],\n",
              "        [2., 1.]], device='cuda:0')"
            ]
          },
          "metadata": {},
          "execution_count": 20
        }
      ]
    },
    {
      "cell_type": "code",
      "source": [
        "torch.save(points, 'points.t')"
      ],
      "metadata": {
        "id": "MIMNKxCvdayb"
      },
      "execution_count": 21,
      "outputs": []
    },
    {
      "cell_type": "code",
      "source": [
        "points=torch.load('points.t')"
      ],
      "metadata": {
        "id": "psDcWl5oeIPI"
      },
      "execution_count": 22,
      "outputs": []
    },
    {
      "cell_type": "code",
      "source": [
        "points"
      ],
      "metadata": {
        "colab": {
          "base_uri": "https://localhost:8080/"
        },
        "id": "f74oYDB4eUP0",
        "outputId": "f84e3cf0-cddf-4f9e-ec8a-58733c248d03"
      },
      "execution_count": 23,
      "outputs": [
        {
          "output_type": "execute_result",
          "data": {
            "text/plain": [
              "tensor([[4., 1.],\n",
              "        [5., 2.],\n",
              "        [2., 1.]])"
            ]
          },
          "metadata": {},
          "execution_count": 23
        }
      ]
    },
    {
      "cell_type": "markdown",
      "source": [
        "**Tensor Views**\n",
        "PyTorch allows a tensor to be a View of an existing tensor. View tensor shares the same underlying data with its base tensor. Supporting View avoids explicit data copy, thus allows us to do fast and memory efficient reshaping, slicing and element-wise operations."
      ],
      "metadata": {
        "id": "zfcQFzV8e52Y"
      }
    },
    {
      "cell_type": "code",
      "source": [
        "t = torch.rand(4, 4)\n",
        "b = t.view(2, 8)\n",
        "t.storage().data_ptr() == b.storage().data_ptr()  # `t` and `b` share the same underlying data.\n",
        "b[0][0] = 3.14\n",
        "t[0][0]"
      ],
      "metadata": {
        "colab": {
          "base_uri": "https://localhost:8080/"
        },
        "id": "lF6IOGBEeW8F",
        "outputId": "ce8436e6-21ed-417e-e0fd-674f2fe61ec3"
      },
      "execution_count": 24,
      "outputs": [
        {
          "output_type": "execute_result",
          "data": {
            "text/plain": [
              "tensor(3.1400)"
            ]
          },
          "metadata": {},
          "execution_count": 24
        }
      ]
    },
    {
      "cell_type": "code",
      "source": [
        "base = torch.tensor([[0, 1],[2, 3]])\n",
        "base.is_contiguous()"
      ],
      "metadata": {
        "colab": {
          "base_uri": "https://localhost:8080/"
        },
        "id": "T2Z7pBb_e4TB",
        "outputId": "cfb7201f-93ee-4d98-95eb-caf971655bb6"
      },
      "execution_count": 26,
      "outputs": [
        {
          "output_type": "execute_result",
          "data": {
            "text/plain": [
              "True"
            ]
          },
          "metadata": {},
          "execution_count": 26
        }
      ]
    },
    {
      "cell_type": "code",
      "source": [
        "\n",
        "t = base.transpose(0, 1)  # `t` is a view of `base`. No data movement happened here.\n",
        "t.is_contiguous()"
      ],
      "metadata": {
        "colab": {
          "base_uri": "https://localhost:8080/"
        },
        "id": "_vCAu1GufLWX",
        "outputId": "ee6f569a-da68-43d7-e6b8-8e1aad92cb62"
      },
      "execution_count": 27,
      "outputs": [
        {
          "output_type": "execute_result",
          "data": {
            "text/plain": [
              "False"
            ]
          },
          "metadata": {},
          "execution_count": 27
        }
      ]
    },
    {
      "cell_type": "code",
      "source": [
        "\n",
        "c = t.contiguous()"
      ],
      "metadata": {
        "id": "UQg9Rm4LfQhr"
      },
      "execution_count": 28,
      "outputs": []
    },
    {
      "cell_type": "code",
      "source": [],
      "metadata": {
        "id": "k0XUW0KHfRJk"
      },
      "execution_count": null,
      "outputs": []
    }
  ]
}